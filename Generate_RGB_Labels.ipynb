{
 "cells": [
  {
   "cell_type": "code",
   "execution_count": 1,
   "metadata": {},
   "outputs": [],
   "source": [
    "import numpy as np\n",
    "from math import ceil\n",
    "import rasterio as rio\n",
    "from pathlib import Path\n",
    "from itertools import product\n",
    "from tqdm.notebook import tqdm\n",
    "from rasterio import windows as windows"
   ]
  },
  {
   "cell_type": "code",
   "execution_count": 2,
   "metadata": {},
   "outputs": [],
   "source": [
    "src_dir = Path(\"Data/Validation_Data/Labels\")\n",
    "dst_dir = Path(\"Data/Validation_Data/RGB_Labels\")"
   ]
  },
  {
   "cell_type": "code",
   "execution_count": 3,
   "metadata": {},
   "outputs": [],
   "source": [
    "color_map = {\n",
    "    0: np.array([255, 255, 255]),\n",
    "    1: np.array([0, 0, 255]),\n",
    "    2: np.array([0, 255, 255]),\n",
    "    3: np.array([0, 255, 0]),\n",
    "    4: np.array([255, 255, 0]),\n",
    "    5: np.array([255, 0, 0])\n",
    "}"
   ]
  },
  {
   "cell_type": "code",
   "execution_count": 4,
   "metadata": {},
   "outputs": [],
   "source": [
    "def generate_windows(img_width, img_height, width, height):\n",
    "    wins = list()        \n",
    "    offsets = product(range(0, img_width, width), range(0, img_height, height))\n",
    "    big_window = windows.Window(col_off=0, row_off=0, width=img_width, height=img_height)\n",
    "    for col_off, row_off in offsets:\n",
    "        window = windows.Window(\n",
    "            col_off=col_off,\n",
    "            row_off=row_off,\n",
    "            width=width,\n",
    "            height=height\n",
    "        )\n",
    "        win = window.intersection(big_window)\n",
    "        wins.append(win)\n",
    "    return wins"
   ]
  },
  {
   "cell_type": "code",
   "execution_count": 5,
   "metadata": {},
   "outputs": [
    {
     "data": {
      "application/vnd.jupyter.widget-view+json": {
       "model_id": "f192aba216a04a0ea9c5a374e6d952ac",
       "version_major": 2,
       "version_minor": 0
      },
      "text/plain": [
       "HBox(children=(FloatProgress(value=0.0, max=5.0), HTML(value='')))"
      ]
     },
     "metadata": {},
     "output_type": "display_data"
    },
    {
     "data": {
      "application/vnd.jupyter.widget-view+json": {
       "model_id": "0d9c9cdc668a456b94a1df573fc0878b",
       "version_major": 2,
       "version_minor": 0
      },
      "text/plain": [
       "HBox(children=(FloatProgress(value=0.0), HTML(value='')))"
      ]
     },
     "metadata": {},
     "output_type": "display_data"
    },
    {
     "name": "stdout",
     "output_type": "stream",
     "text": [
      "\n"
     ]
    },
    {
     "data": {
      "application/vnd.jupyter.widget-view+json": {
       "model_id": "fefb229b12ea4c998d4e34218a7f56e1",
       "version_major": 2,
       "version_minor": 0
      },
      "text/plain": [
       "HBox(children=(FloatProgress(value=0.0), HTML(value='')))"
      ]
     },
     "metadata": {},
     "output_type": "display_data"
    },
    {
     "name": "stdout",
     "output_type": "stream",
     "text": [
      "\n"
     ]
    },
    {
     "data": {
      "application/vnd.jupyter.widget-view+json": {
       "model_id": "1e1e85713f9c46d2b3a99ac82b28f6df",
       "version_major": 2,
       "version_minor": 0
      },
      "text/plain": [
       "HBox(children=(FloatProgress(value=0.0), HTML(value='')))"
      ]
     },
     "metadata": {},
     "output_type": "display_data"
    },
    {
     "name": "stdout",
     "output_type": "stream",
     "text": [
      "\n"
     ]
    },
    {
     "data": {
      "application/vnd.jupyter.widget-view+json": {
       "model_id": "14ee86e8972b4d17bf4a45d03568a1ac",
       "version_major": 2,
       "version_minor": 0
      },
      "text/plain": [
       "HBox(children=(FloatProgress(value=0.0), HTML(value='')))"
      ]
     },
     "metadata": {},
     "output_type": "display_data"
    },
    {
     "name": "stdout",
     "output_type": "stream",
     "text": [
      "\n"
     ]
    },
    {
     "data": {
      "application/vnd.jupyter.widget-view+json": {
       "model_id": "03fe216fa8c8473facf160994dffc835",
       "version_major": 2,
       "version_minor": 0
      },
      "text/plain": [
       "HBox(children=(FloatProgress(value=0.0), HTML(value='')))"
      ]
     },
     "metadata": {},
     "output_type": "display_data"
    },
    {
     "name": "stdout",
     "output_type": "stream",
     "text": [
      "\n",
      "\n"
     ]
    }
   ],
   "source": [
    "for imf in tqdm(list(src_dir.glob('*.tif'))):\n",
    "    with rio.open(imf, 'r') as src:\n",
    "        meta = src.meta.copy()\n",
    "        ih, iw = meta['height'], meta['width']\n",
    "        assert src.count == 1\n",
    "        wins = generate_windows(img_width=iw, img_height=ih, width=600, height=600)\n",
    "        meta['count'] = 3\n",
    "        meta['dtype'] = np.uint8\n",
    "        dst_path = dst_dir / (imf.stem + '_RGB' + imf.suffix)\n",
    "        with rio.open(dst_path, 'w', **meta) as dst:\n",
    "            for w in tqdm(wins):\n",
    "                img_array = src.read(indexes=1, window=w) - 1\n",
    "                lookup = np.zeros((255, 3), dtype=np.uint8)\n",
    "                clist = list()\n",
    "                for u in np.unique(img_array, return_counts=False):\n",
    "                    clist.append(color_map[u])\n",
    "                colors = np.stack(clist, axis=0)\n",
    "                lookup[np.unique(img_array)] = colors\n",
    "                rgb_img = lookup[img_array]\n",
    "                rgb_img = np.moveaxis(rgb_img, -1, 0)\n",
    "                dst.write(rgb_img, window=w)"
   ]
  }
 ],
 "metadata": {
  "kernelspec": {
   "display_name": "Python 3",
   "language": "python",
   "name": "python3"
  },
  "language_info": {
   "codemirror_mode": {
    "name": "ipython",
    "version": 3
   },
   "file_extension": ".py",
   "mimetype": "text/x-python",
   "name": "python",
   "nbconvert_exporter": "python",
   "pygments_lexer": "ipython3",
   "version": "3.8.4"
  }
 },
 "nbformat": 4,
 "nbformat_minor": 4
}
